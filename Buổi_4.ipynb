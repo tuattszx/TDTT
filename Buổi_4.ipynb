{
 "cells": [
  {
   "cell_type": "markdown",
   "id": "8a23ea75",
   "metadata": {},
   "source": [
    "1\n"
   ]
  },
  {
   "cell_type": "code",
   "execution_count": null,
   "id": "a8e69153",
   "metadata": {},
   "outputs": [],
   "source": [
    "n = int(input())\n",
    "s = 0\n",
    "for i in range(1, n + 1):\n",
    "    s += i\n",
    "print(s)"
   ]
  },
  {
   "cell_type": "markdown",
   "id": "c71e6e7e",
   "metadata": {},
   "source": [
    "2"
   ]
  },
  {
   "cell_type": "code",
   "execution_count": null,
   "id": "ce80ccdb",
   "metadata": {},
   "outputs": [],
   "source": [
    "def prime(n):\n",
    "    if (n < 2):\n",
    "        return False\n",
    "    for i in range(2, int(n ** 0.5) + 1):\n",
    "        if (n % i == 0):\n",
    "            return False\n",
    "    return True\n",
    "flag = False\n",
    "while (not flag):\n",
    "    n = int(input())\n",
    "    flag = prime(n)\n",
    "    print(flag)"
   ]
  },
  {
   "cell_type": "markdown",
   "id": "1e4149c4",
   "metadata": {},
   "source": [
    "3"
   ]
  },
  {
   "cell_type": "code",
   "execution_count": null,
   "id": "0d8da8e1",
   "metadata": {},
   "outputs": [],
   "source": [
    "n = int(input())\n",
    "gt = 1\n",
    "for i in range(1, n + 1):\n",
    "    gt *= i\n",
    "print(gt)"
   ]
  },
  {
   "cell_type": "markdown",
   "id": "e3ffb06b",
   "metadata": {},
   "source": [
    "4"
   ]
  },
  {
   "cell_type": "code",
   "execution_count": 5,
   "id": "2c2d1a77",
   "metadata": {},
   "outputs": [
    {
     "name": "stdout",
     "output_type": "stream",
     "text": [
      "4\n"
     ]
    }
   ],
   "source": [
    "n = abs(int(input()))\n",
    "s = 0\n",
    "while (n != 0):\n",
    "    s += 1\n",
    "    n //= 10\n",
    "print(s)"
   ]
  },
  {
   "cell_type": "markdown",
   "id": "4a1dfabc",
   "metadata": {},
   "source": [
    "5"
   ]
  },
  {
   "cell_type": "code",
   "execution_count": 6,
   "id": "c0bc50ae",
   "metadata": {},
   "outputs": [
    {
     "name": "stdout",
     "output_type": "stream",
     "text": [
      "I've found the meaning of life!\n"
     ]
    }
   ],
   "source": [
    "n = int(input())\n",
    "a = list(map(int, input().split()))\n",
    "print(\"I've found the meaning of life!\" if (42 in a) else \"It's a joke!\")"
   ]
  },
  {
   "cell_type": "markdown",
   "id": "a1bbe10e",
   "metadata": {},
   "source": [
    "6"
   ]
  },
  {
   "cell_type": "code",
   "execution_count": 7,
   "id": "b63caada",
   "metadata": {},
   "outputs": [
    {
     "name": "stdout",
     "output_type": "stream",
     "text": [
      "17\n"
     ]
    }
   ],
   "source": [
    "a, b = map(int, input().split())\n",
    "d = [1] * (b + 1)\n",
    "d[0] = d[1] = 0\n",
    "for i in range(2, b + 1):\n",
    "    if (d[i]):\n",
    "        for j in range(i * i, b + 1 , i):\n",
    "            d[j] = 0\n",
    "s = 0\n",
    "for i in range(a, b + 1):\n",
    "    s += i * d[i]\n",
    "print(s)"
   ]
  },
  {
   "cell_type": "markdown",
   "id": "cf12bb42",
   "metadata": {},
   "source": [
    "7"
   ]
  },
  {
   "cell_type": "code",
   "execution_count": null,
   "id": "6fb66d3f",
   "metadata": {},
   "outputs": [],
   "source": [
    "def prime(n):\n",
    "    if (n < 2):\n",
    "        return 0\n",
    "    for i in range(2, int(n ** 0.5) + 1):\n",
    "        if (n % i == 0):\n",
    "            return 0\n",
    "    return 1\n",
    "n = int(input())\n",
    "res = 0\n",
    "for i in range(1, int(n ** 0.5) + 1):\n",
    "    if (n % i == 0):\n",
    "        res = max(res, i * prime(i), n // i * prime(n // i))\n",
    "print(res)"
   ]
  },
  {
   "cell_type": "markdown",
   "id": "a2fc3d20",
   "metadata": {},
   "source": [
    "8"
   ]
  },
  {
   "cell_type": "code",
   "execution_count": 12,
   "id": "b4e6b623",
   "metadata": {},
   "outputs": [
    {
     "name": "stdout",
     "output_type": "stream",
     "text": [
      "4 9339\n"
     ]
    }
   ],
   "source": [
    "def rev(n):\n",
    "    x = 0\n",
    "    while (n > 0):\n",
    "        x = x * 10 + n % 10\n",
    "        n //= 10\n",
    "    return x\n",
    "n = abs(int(input()))\n",
    "c = 0\n",
    "rn = rev(n)\n",
    "while (n != rn):\n",
    "    c += 1\n",
    "    n += rn\n",
    "    rn = rev(n)\n",
    "print(c, n)"
   ]
  },
  {
   "cell_type": "markdown",
   "id": "84311328",
   "metadata": {},
   "source": [
    "9"
   ]
  },
  {
   "cell_type": "code",
   "execution_count": null,
   "id": "121084c9",
   "metadata": {},
   "outputs": [],
   "source": [
    "def f(x):\n",
    "    d = [0] * 10\n",
    "    while (x > 0):\n",
    "        if (d[x % 10]):\n",
    "            return 0\n",
    "        d[x % 10] = 1\n",
    "        x //= 10\n",
    "    return 1\n",
    "n = int(input())\n",
    "n = int(n ** 0.5)\n",
    "a = [i * i for i in range(1, n + 1) if f(i * i)]\n",
    "print(a if len(a) else \"No Number\")"
   ]
  },
  {
   "cell_type": "markdown",
   "id": "f0ff5479",
   "metadata": {},
   "source": [
    "10"
   ]
  },
  {
   "cell_type": "code",
   "execution_count": null,
   "id": "b7bb143c",
   "metadata": {},
   "outputs": [],
   "source": [
    "def collatz(n):\n",
    "    c = 0\n",
    "    while n != 1:\n",
    "        c += 1 \n",
    "        n = n // 2 if n % 2 == 0 else n * 3 + 1\n",
    "    return c + 1\n",
    "n = int(input())\n",
    "res, cnt = 0, 0\n",
    "\n",
    "for i in range(1, n + 1):\n",
    "    x = collatz(i)\n",
    "    if (x > cnt):\n",
    "        res = i\n",
    "        cnt = x\n",
    "print(res, cnt)"
   ]
  },
  {
   "cell_type": "markdown",
   "id": "cafef74a",
   "metadata": {},
   "source": [
    "11"
   ]
  },
  {
   "cell_type": "code",
   "execution_count": null,
   "id": "044b8a36",
   "metadata": {},
   "outputs": [],
   "source": [
    "n = int(input())\n",
    "res = 0\n",
    "for i in range(1, int(n ** 0.5) + 1):\n",
    "    if (n % i == 0):\n",
    "        res += ((i % 2) ^ 1) + ((n // i % 2) ^ 1)\n",
    "print(res)"
   ]
  },
  {
   "cell_type": "markdown",
   "id": "901e2797",
   "metadata": {},
   "source": [
    "12"
   ]
  },
  {
   "cell_type": "code",
   "execution_count": null,
   "id": "5043f2db",
   "metadata": {},
   "outputs": [],
   "source": [
    "x, n = map(int, input().split())\n",
    "res = int(x * (1 + 0.7/100) ** n)\n",
    "print(res)"
   ]
  },
  {
   "cell_type": "markdown",
   "id": "757dda83",
   "metadata": {},
   "source": [
    "13"
   ]
  },
  {
   "cell_type": "code",
   "execution_count": null,
   "id": "280c0ec7",
   "metadata": {},
   "outputs": [],
   "source": [
    "def f(x):\n",
    "    s = 1\n",
    "    for i in range(2, int(x ** 0.5) + 1):\n",
    "        if (x % i == 0):\n",
    "            s += i + x // i\n",
    "    return s\n",
    "a, b = map(int,input().split())\n",
    "print(\"true\" if a == f(b) or f(a) == b else \"false\")"
   ]
  },
  {
   "cell_type": "markdown",
   "id": "81d6ef53",
   "metadata": {},
   "source": [
    "14"
   ]
  },
  {
   "cell_type": "code",
   "execution_count": null,
   "id": "d58eefdd",
   "metadata": {},
   "outputs": [],
   "source": [
    "from math import gcd\n",
    "n, m = map(int, input().split())\n",
    "print(gcd(n, m))\n"
   ]
  },
  {
   "cell_type": "markdown",
   "id": "9a40afc3",
   "metadata": {},
   "source": [
    "15"
   ]
  },
  {
   "cell_type": "code",
   "execution_count": null,
   "id": "0cff62a8",
   "metadata": {},
   "outputs": [],
   "source": [
    "a, b = map(int, input().split())\n",
    "print(*[a -(b - 2*a) // 2, (b - 2*a) // 2] if (b - 2*a) % 2 == 0 else \"invalid\")"
   ]
  },
  {
   "cell_type": "markdown",
   "id": "fa29827b",
   "metadata": {},
   "source": [
    "16"
   ]
  },
  {
   "cell_type": "code",
   "execution_count": 36,
   "id": "7b7f78ca",
   "metadata": {},
   "outputs": [
    {
     "name": "stdout",
     "output_type": "stream",
     "text": [
      "6 12 18 24 30 36 42 48 54 60 66 72 78 84 90 96\n"
     ]
    }
   ],
   "source": [
    "a = [i for i in range(6, 100, 6)]\n",
    "print(*a)"
   ]
  },
  {
   "cell_type": "markdown",
   "id": "094a3d4d",
   "metadata": {},
   "source": [
    "17"
   ]
  },
  {
   "cell_type": "code",
   "execution_count": null,
   "id": "78e56da3",
   "metadata": {},
   "outputs": [],
   "source": [
    "a = int(input())\n",
    "for i in range(1, 11):\n",
    "    print(f\"{a} x {i} = {a * i}\")"
   ]
  },
  {
   "cell_type": "markdown",
   "id": "875dcec9",
   "metadata": {},
   "source": [
    "18"
   ]
  },
  {
   "cell_type": "code",
   "execution_count": null,
   "id": "c3157a92",
   "metadata": {},
   "outputs": [],
   "source": [
    "from math import gcd\n",
    "a, b = map(int, input().split())\n",
    "x = gcd(a, b)\n",
    "a = [i for i in range(1, x // 2 + 1) if x % i == 0]\n",
    "print(*a)"
   ]
  },
  {
   "cell_type": "markdown",
   "id": "31f84ca2",
   "metadata": {},
   "source": [
    "19"
   ]
  },
  {
   "cell_type": "code",
   "execution_count": 2,
   "id": "f6ef8004",
   "metadata": {},
   "outputs": [
    {
     "name": "stdout",
     "output_type": "stream",
     "text": [
      "2 4 6 8 10\n"
     ]
    }
   ],
   "source": [
    "n = int(input())\n",
    "print(*[i for i in range(2, n + 1, 2)])"
   ]
  },
  {
   "cell_type": "markdown",
   "id": "47a555b6",
   "metadata": {},
   "source": [
    "20"
   ]
  },
  {
   "cell_type": "code",
   "execution_count": 5,
   "id": "67f533e7",
   "metadata": {},
   "outputs": [
    {
     "name": "stdout",
     "output_type": "stream",
     "text": [
      "No\n"
     ]
    }
   ],
   "source": [
    "n = int(input())\n",
    "print(\"No\" if n & (n - 1) else \"Yes\")"
   ]
  },
  {
   "cell_type": "markdown",
   "id": "4fe548a2",
   "metadata": {},
   "source": [
    "21"
   ]
  },
  {
   "cell_type": "code",
   "execution_count": 7,
   "id": "7e825ad1",
   "metadata": {},
   "outputs": [
    {
     "name": "stdout",
     "output_type": "stream",
     "text": [
      "10\n"
     ]
    }
   ],
   "source": [
    "n = abs(int(input()))\n",
    "print(sum([int(i) for i in str(n)]))"
   ]
  },
  {
   "cell_type": "markdown",
   "id": "5761e354",
   "metadata": {},
   "source": [
    "22"
   ]
  },
  {
   "cell_type": "code",
   "execution_count": 8,
   "id": "e0cb2780",
   "metadata": {},
   "outputs": [
    {
     "name": "stdout",
     "output_type": "stream",
     "text": [
      "2 3\n"
     ]
    }
   ],
   "source": [
    "n = abs(int(input()))\n",
    "a = [int(i) % 2 for i in str(n)]\n",
    "print(len(a) - sum(a), sum(a))"
   ]
  },
  {
   "cell_type": "markdown",
   "id": "6e6b0797",
   "metadata": {},
   "source": [
    "23"
   ]
  },
  {
   "cell_type": "code",
   "execution_count": 9,
   "id": "8820cb19",
   "metadata": {},
   "outputs": [
    {
     "name": "stdout",
     "output_type": "stream",
     "text": [
      "3\n"
     ]
    }
   ],
   "source": [
    "n = int(input())\n",
    "l = 0\n",
    "r = n\n",
    "while l < r:\n",
    "    m = l + r >> 1\n",
    "    if (m * (m + 1) // 2 < n):\n",
    "        l = m + 1\n",
    "    else:\n",
    "        r = m\n",
    "print(r - 1)"
   ]
  },
  {
   "cell_type": "markdown",
   "id": "39345e25",
   "metadata": {},
   "source": [
    "24\n"
   ]
  },
  {
   "cell_type": "code",
   "execution_count": null,
   "id": "c587a127",
   "metadata": {},
   "outputs": [],
   "source": [
    "a = float(input())\n",
    "n = 1\n",
    "s = 1\n",
    "while (s <= a):\n",
    "    n += 1\n",
    "    s += 1 / n\n",
    "print(n)"
   ]
  },
  {
   "cell_type": "markdown",
   "id": "4a009f7f",
   "metadata": {},
   "source": [
    "25"
   ]
  },
  {
   "cell_type": "code",
   "execution_count": 11,
   "id": "af627d03",
   "metadata": {},
   "outputs": [
    {
     "name": "stdout",
     "output_type": "stream",
     "text": [
      "7 -125\n"
     ]
    }
   ],
   "source": [
    "mx = -float('inf')\n",
    "mi = float('inf')\n",
    "while True:\n",
    "    n = int(input())\n",
    "    mi = min(n, mi)\n",
    "    mx = max(mx, n)\n",
    "    if n == -1:\n",
    "        break\n",
    "print(mx, mi)"
   ]
  },
  {
   "cell_type": "markdown",
   "id": "a9c11fec",
   "metadata": {},
   "source": [
    "26"
   ]
  },
  {
   "cell_type": "code",
   "execution_count": 16,
   "id": "2ac001fd",
   "metadata": {},
   "outputs": [
    {
     "name": "stdout",
     "output_type": "stream",
     "text": [
      "8\n"
     ]
    }
   ],
   "source": [
    "n = int(input())\n",
    "a, b, c = 1, 1, 2\n",
    "while c <= n:\n",
    "    c = a + b\n",
    "    a = b\n",
    "    b = c\n",
    "print(a)"
   ]
  },
  {
   "cell_type": "markdown",
   "id": "23bad15e",
   "metadata": {},
   "source": [
    "27"
   ]
  },
  {
   "cell_type": "code",
   "execution_count": null,
   "id": "a9329f61",
   "metadata": {},
   "outputs": [],
   "source": [
    "s = input()\n",
    "res = 0\n",
    "for i in s:\n",
    "    res += 1\n",
    "print(res)"
   ]
  },
  {
   "cell_type": "markdown",
   "id": "95745e00",
   "metadata": {},
   "source": [
    "28"
   ]
  },
  {
   "cell_type": "code",
   "execution_count": null,
   "id": "8220e24c",
   "metadata": {},
   "outputs": [],
   "source": [
    "s = input()\n",
    "for i in s:\n",
    "    if i == ' ':\n",
    "        break\n",
    "    print(i, end='')"
   ]
  },
  {
   "cell_type": "markdown",
   "id": "99b68d40",
   "metadata": {},
   "source": [
    "29"
   ]
  },
  {
   "cell_type": "code",
   "execution_count": 18,
   "id": "90a300c1",
   "metadata": {},
   "outputs": [
    {
     "name": "stdout",
     "output_type": "stream",
     "text": [
      "30\n"
     ]
    }
   ],
   "source": [
    "print(sum(list(map(int, input().split(',')))))"
   ]
  },
  {
   "cell_type": "markdown",
   "id": "df135fa2",
   "metadata": {},
   "source": [
    "30"
   ]
  },
  {
   "cell_type": "code",
   "execution_count": 23,
   "id": "332b367f",
   "metadata": {},
   "outputs": [
    {
     "name": "stdout",
     "output_type": "stream",
     "text": [
      "3 3 1\n"
     ]
    }
   ],
   "source": [
    "s = input()\n",
    "digit = 0\n",
    "lower = 0\n",
    "upper = 0\n",
    "for i in s:\n",
    "    digit += '0' <= i <= '9'\n",
    "    lower += 'a' <= i <= 'z'\n",
    "    upper += 'A' <= i <= 'Z'\n",
    "print(digit, lower, upper)"
   ]
  },
  {
   "cell_type": "markdown",
   "id": "0903518c",
   "metadata": {},
   "source": [
    "31"
   ]
  },
  {
   "cell_type": "code",
   "execution_count": 24,
   "id": "7d094c79",
   "metadata": {},
   "outputs": [
    {
     "name": "stdout",
     "output_type": "stream",
     "text": [
      "24\n"
     ]
    }
   ],
   "source": [
    "s = input()\n",
    "print(sum([int(i) for i in s if ('0' <= i <= '9')]))"
   ]
  },
  {
   "cell_type": "markdown",
   "id": "62aa4d8c",
   "metadata": {},
   "source": [
    "32"
   ]
  },
  {
   "cell_type": "code",
   "execution_count": 30,
   "id": "4fb2ae1b",
   "metadata": {},
   "outputs": [
    {
     "name": "stdout",
     "output_type": "stream",
     "text": [
      "No\n"
     ]
    }
   ],
   "source": [
    "ktdb = \"!@#$%^&*()-_=+[]{};:'\\\",.<>?/\\\\|`~\"\n",
    "d, l, u, k = 0, 0, 0, 0\n",
    "s = input()\n",
    "for i in s:\n",
    "    d |= '0' <= i <= '9'\n",
    "    l |= 'a' <= i <= 'z'\n",
    "    u |= 'A' <= i <= 'Z'\n",
    "    k |= i in ktdb\n",
    "print(\"Yes\" if d and l and u and k and len(s) >= 6 else \"No\")"
   ]
  },
  {
   "cell_type": "markdown",
   "id": "f29945ca",
   "metadata": {},
   "source": [
    "33"
   ]
  },
  {
   "cell_type": "code",
   "execution_count": 33,
   "id": "e331bc87",
   "metadata": {},
   "outputs": [
    {
     "name": "stdout",
     "output_type": "stream",
     "text": [
      "375.469.485\n"
     ]
    }
   ],
   "source": [
    "s = input()\n",
    "s = s[::-1]\n",
    "a = []\n",
    "for i in range(len(s)):\n",
    "    a.append(s[i])\n",
    "    if (i % 3 == 2 and i + 1 < len(s)):\n",
    "        a.append('.')\n",
    "\n",
    "a = a[::-1]\n",
    "print(''.join(a))"
   ]
  },
  {
   "cell_type": "markdown",
   "id": "be090fb8",
   "metadata": {},
   "source": [
    "34"
   ]
  },
  {
   "cell_type": "code",
   "execution_count": 7,
   "id": "1be3f2f9",
   "metadata": {},
   "outputs": [
    {
     "name": "stdout",
     "output_type": "stream",
     "text": [
      " mọi người!\n"
     ]
    }
   ],
   "source": [
    "a , b = input(), input()\n",
    "x = a.find(b)\n",
    "a = [i for i in a]\n",
    "if x != -1:\n",
    "    del a[x : x + len(b)]\n",
    "print(''.join(a))"
   ]
  }
 ],
 "metadata": {
  "kernelspec": {
   "display_name": "Python 3",
   "language": "python",
   "name": "python3"
  },
  "language_info": {
   "codemirror_mode": {
    "name": "ipython",
    "version": 3
   },
   "file_extension": ".py",
   "mimetype": "text/x-python",
   "name": "python",
   "nbconvert_exporter": "python",
   "pygments_lexer": "ipython3",
   "version": "3.13.7"
  }
 },
 "nbformat": 4,
 "nbformat_minor": 5
}
