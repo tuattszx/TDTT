{
 "cells": [
  {
   "cell_type": "markdown",
   "id": "b88b60a2",
   "metadata": {},
   "source": [
    "Bài 1"
   ]
  },
  {
   "cell_type": "code",
   "execution_count": null,
   "id": "e6f22f88",
   "metadata": {},
   "outputs": [],
   "source": [
    "s = int(input())\n",
    "print(-int(str(-s)[::-1]) if s <= 0 else int(str(s)[::-1]))\n",
    "\n"
   ]
  },
  {
   "cell_type": "markdown",
   "id": "8d43eeb9",
   "metadata": {},
   "source": [
    "Bài 2"
   ]
  },
  {
   "cell_type": "code",
   "execution_count": null,
   "id": "7c07c6ec",
   "metadata": {},
   "outputs": [],
   "source": [
    "a, b = map(int, input().split())\n",
    "a ^= b\n",
    "b ^= a\n",
    "a ^= b\n",
    "print(a, b)"
   ]
  },
  {
   "cell_type": "markdown",
   "id": "1103c8e9",
   "metadata": {},
   "source": [
    "Bài 3"
   ]
  },
  {
   "cell_type": "code",
   "execution_count": null,
   "id": "464b2870",
   "metadata": {},
   "outputs": [],
   "source": [
    "n = int(input())\n",
    "print(True if (n & (n - 1)) == 0 else False)"
   ]
  },
  {
   "cell_type": "markdown",
   "id": "53cdea7b",
   "metadata": {},
   "source": [
    "Bài 4"
   ]
  },
  {
   "cell_type": "code",
   "execution_count": null,
   "id": "b3c1897e",
   "metadata": {},
   "outputs": [],
   "source": [
    "m, n = map(int, input().split())\n",
    "print(m // n)"
   ]
  },
  {
   "cell_type": "markdown",
   "id": "3a87486b",
   "metadata": {},
   "source": [
    "Bài 5"
   ]
  },
  {
   "cell_type": "code",
   "execution_count": null,
   "id": "2289482e",
   "metadata": {},
   "outputs": [],
   "source": [
    "m, n = map(int, input().split())\n",
    "print(m // n + (m % n != 0))"
   ]
  },
  {
   "cell_type": "markdown",
   "id": "cc17d2ac",
   "metadata": {},
   "source": [
    "Bài 6\n"
   ]
  },
  {
   "cell_type": "code",
   "execution_count": null,
   "id": "a3c51c54",
   "metadata": {},
   "outputs": [],
   "source": [
    "n = int(input())\n",
    "print(\"Odd\" if (n & 1) else \"Even\")"
   ]
  },
  {
   "cell_type": "markdown",
   "id": "0bf25cd7",
   "metadata": {},
   "source": [
    "Bài 7"
   ]
  },
  {
   "cell_type": "code",
   "execution_count": null,
   "id": "0fe9db69",
   "metadata": {},
   "outputs": [],
   "source": [
    "a = int(input())\n",
    "b = int(input())\n",
    "print(\"Yes\" if (a < 0 and b < 0) else \"No\")"
   ]
  },
  {
   "cell_type": "markdown",
   "id": "b57626bb",
   "metadata": {},
   "source": [
    "Bài 8"
   ]
  },
  {
   "cell_type": "code",
   "execution_count": null,
   "id": "74417e3a",
   "metadata": {},
   "outputs": [],
   "source": [
    "a = input()\n",
    "b = input()\n",
    "print(len(a) > len(b))"
   ]
  },
  {
   "cell_type": "markdown",
   "id": "969c6c02",
   "metadata": {},
   "source": [
    "Bài 9"
   ]
  },
  {
   "cell_type": "code",
   "execution_count": null,
   "id": "1a471018",
   "metadata": {},
   "outputs": [],
   "source": [
    "a = int(input())\n",
    "b = int(input())\n",
    "c = int(input())\n",
    "print((a + b > c) and (a + c > b) and ( b + c > a))"
   ]
  },
  {
   "cell_type": "markdown",
   "id": "f218a522",
   "metadata": {},
   "source": [
    "Bài 10"
   ]
  },
  {
   "cell_type": "code",
   "execution_count": null,
   "id": "9bd1f529",
   "metadata": {},
   "outputs": [],
   "source": [
    "a = int(input())\n",
    "b = int(input())\n",
    "c = int(input())\n",
    "d = int(input())\n",
    "print(max(a, b, c, d))"
   ]
  },
  {
   "cell_type": "markdown",
   "id": "3016b85a",
   "metadata": {},
   "source": [
    "Bài 11"
   ]
  },
  {
   "cell_type": "code",
   "execution_count": null,
   "id": "2316aabd",
   "metadata": {},
   "outputs": [],
   "source": [
    "a = list(map(int, input().split()))\n",
    "a.sort()\n",
    "print(\"Không phải là tam giác\" if (a[0] + a[1] <= a[2]) else (\"Tam giác đều\" if (a[0] == a[1] == a[2]) else (\"Tam giác cân\" if (a[0] == a[1] or a[0] == a[2] or a[1] == a[2]) else \"Tam giác thường\")))"
   ]
  },
  {
   "cell_type": "markdown",
   "id": "eae412c6",
   "metadata": {},
   "source": [
    "Bài 12"
   ]
  },
  {
   "cell_type": "code",
   "execution_count": null,
   "id": "b3608293",
   "metadata": {},
   "outputs": [],
   "source": [
    "n = int(input())\n",
    "print((n % 4 == 0 and n % 100 != 0) or n % 400 == 0)"
   ]
  },
  {
   "cell_type": "markdown",
   "id": "47145fc4",
   "metadata": {},
   "source": [
    "Bài 13\n"
   ]
  },
  {
   "cell_type": "code",
   "execution_count": null,
   "id": "7e0d032b",
   "metadata": {},
   "outputs": [],
   "source": [
    "n = int(input())\n",
    "res = min(n, 50) * 1500 + max(min(50, n - 50), 0) * 2000 + max(n - 100, 0) * 3000\n",
    "print(res)"
   ]
  },
  {
   "cell_type": "markdown",
   "id": "12186182",
   "metadata": {},
   "source": [
    "Bài 14"
   ]
  },
  {
   "cell_type": "code",
   "execution_count": null,
   "id": "612537ee",
   "metadata": {},
   "outputs": [],
   "source": [
    "a = float(input())\n",
    "b = float(input())\n",
    "print(\"Vô số nghiệm\" if (a == b == 0) else (\"Vô nghiệm\" if (a == 0 and b != 0) else f\"{-b/a:.2f}\"))"
   ]
  },
  {
   "cell_type": "markdown",
   "id": "6489be86",
   "metadata": {},
   "source": [
    "Bài 15\n"
   ]
  },
  {
   "cell_type": "code",
   "execution_count": 26,
   "id": "382307af",
   "metadata": {},
   "outputs": [
    {
     "name": "stdout",
     "output_type": "stream",
     "text": [
      "Yếu\n"
     ]
    }
   ],
   "source": [
    "a = float(input())\n",
    "print(\"Giỏi\" if a >= 8.0 else (\"Khá\" if a >= 6.5 else (\"Trung bình\" if a >= 5.0 else \"Yếu\")))"
   ]
  },
  {
   "cell_type": "markdown",
   "id": "6fb9f806",
   "metadata": {},
   "source": [
    "Bài 16\n"
   ]
  },
  {
   "cell_type": "code",
   "execution_count": 46,
   "id": "615cf393",
   "metadata": {},
   "outputs": [
    {
     "name": "stdout",
     "output_type": "stream",
     "text": [
      "-7 -8 -7\n"
     ]
    }
   ],
   "source": [
    "a = float(input())\n",
    "if (a <= 0):\n",
    "    print(int(a // 1 + (abs(int(a) - a) > 0)), int(a // 1), int(a // 1 + (int(a) - a < 0.5)) )\n",
    "else:\n",
    "    print(int(a // 1 + (abs(int(a) - a) > 0)), int(a // 1), int(a // 1 + (a - int(a) >= 0.5)))"
   ]
  }
 ],
 "metadata": {
  "kernelspec": {
   "display_name": "Python 3",
   "language": "python",
   "name": "python3"
  },
  "language_info": {
   "codemirror_mode": {
    "name": "ipython",
    "version": 3
   },
   "file_extension": ".py",
   "mimetype": "text/x-python",
   "name": "python",
   "nbconvert_exporter": "python",
   "pygments_lexer": "ipython3",
   "version": "3.13.7"
  }
 },
 "nbformat": 4,
 "nbformat_minor": 5
}
