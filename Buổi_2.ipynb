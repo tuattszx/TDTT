{
 "cells": [
  {
   "cell_type": "markdown",
   "id": "ff1a2115",
   "metadata": {},
   "source": [
    "Bài 1"
   ]
  },
  {
   "cell_type": "code",
   "execution_count": null,
   "id": "a06c7e7b",
   "metadata": {},
   "outputs": [],
   "source": [
    "n = int(input())\n",
    "print(n * 2)"
   ]
  },
  {
   "cell_type": "markdown",
   "id": "ca575a4a",
   "metadata": {},
   "source": [
    "Bài 2\n"
   ]
  },
  {
   "cell_type": "code",
   "execution_count": null,
   "id": "7ddd9fb9",
   "metadata": {},
   "outputs": [],
   "source": [
    "a, b = map(int, input().split())\n",
    "print(f\"{a * b - (min(a, b) / 2) ** 2 * 3.14:.2f}\")"
   ]
  },
  {
   "cell_type": "markdown",
   "id": "fa7c62f7",
   "metadata": {},
   "source": [
    "Bài 3"
   ]
  },
  {
   "cell_type": "code",
   "execution_count": null,
   "id": "966ca292",
   "metadata": {},
   "outputs": [],
   "source": [
    "s = input()\n",
    "s = s.upper() if s.islower() else s.lower()\n",
    "print(s)\n"
   ]
  },
  {
   "cell_type": "markdown",
   "id": "620daec1",
   "metadata": {},
   "source": [
    "Bài 4\n"
   ]
  },
  {
   "cell_type": "code",
   "execution_count": null,
   "id": "25fd9bcf",
   "metadata": {},
   "outputs": [],
   "source": [
    "s = input()\n",
    "print(f\"{s} là kí tu alphabet\" if s.isalpha() else f\"{s} không phải kí tự alphabet\")\n",
    "\n"
   ]
  },
  {
   "cell_type": "markdown",
   "id": "7de6a330",
   "metadata": {},
   "source": [
    "Bài 5"
   ]
  },
  {
   "cell_type": "code",
   "execution_count": null,
   "id": "5565ebc3",
   "metadata": {},
   "outputs": [],
   "source": [
    "s = input()\n",
    "print(s if (s == 'A' or s == 'a') else chr(ord(s) + 31))"
   ]
  },
  {
   "cell_type": "markdown",
   "id": "0839c33a",
   "metadata": {},
   "source": [
    "Bài 6"
   ]
  },
  {
   "cell_type": "code",
   "execution_count": null,
   "id": "73c1cf81",
   "metadata": {},
   "outputs": [],
   "source": [
    "a = list(map(float, input(\"Nhập a, b, c: \").split()))\n",
    "a.sort()\n",
    "if a[0] + a[1] > a[2]:\n",
    "    p = (a[0] + a[1] + a[2]) / 2\n",
    "    s = (p * (p - a[0]) * (p - a[1]) * (p - a[2])) ** 0.5\n",
    "    print(\"Diện tích tam giác là:\", s)\n",
    "else:\n",
    "    print(\"Khong phai 3 canh cua tam giac\")"
   ]
  },
  {
   "cell_type": "markdown",
   "id": "317ad121",
   "metadata": {},
   "source": [
    "Bài 7"
   ]
  },
  {
   "cell_type": "code",
   "execution_count": null,
   "id": "128a0e90",
   "metadata": {},
   "outputs": [],
   "source": [
    "s = input()\n",
    "while len(s) < 20:\n",
    "    s = input(\"S be hon 20, nhap lai: \")\n",
    "print(s[4], s[8])"
   ]
  },
  {
   "cell_type": "markdown",
   "id": "fb183fbb",
   "metadata": {},
   "source": [
    "Bài 8\n"
   ]
  },
  {
   "cell_type": "code",
   "execution_count": null,
   "id": "cc579492",
   "metadata": {},
   "outputs": [],
   "source": [
    "name = input(\"Ten chu ho: \")\n",
    "pre = int(input(\"Chi so thang truoc: \"))\n",
    "cur = int(input(\"Chi so thang nay: \"))\n",
    "coin = [1984, 2050, 2380, 2998, 3350, 3460]\n",
    "total = cur - pre\n",
    "energy = [50, 50, 100, 100, 100, total]\n",
    "s = 0\n",
    "for i in range(6):\n",
    "    s += min(total, energy[i]) * coin[i]\n",
    "    total -= min(total, energy[i])\n",
    "s = int(round(s * 1.08))\n",
    "print(f\"Ho va ten: {name}\")\n",
    "print(f\"Tien phai tra la: {s}\")"
   ]
  }
 ],
 "metadata": {
  "kernelspec": {
   "display_name": "Python 3",
   "language": "python",
   "name": "python3"
  },
  "language_info": {
   "name": "python",
   "version": "3.13.7"
  }
 },
 "nbformat": 4,
 "nbformat_minor": 5
}
