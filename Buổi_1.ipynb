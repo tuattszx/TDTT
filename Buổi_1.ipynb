{
 "cells": [
  {
   "cell_type": "markdown",
   "id": "061a8a3e",
   "metadata": {},
   "source": [
    "Bài 1\n"
   ]
  },
  {
   "cell_type": "code",
   "execution_count": null,
   "id": "4416b7f3",
   "metadata": {},
   "outputs": [],
   "source": [
    "print(\"HelloWorld!\")"
   ]
  },
  {
   "cell_type": "markdown",
   "id": "76e9f3a1",
   "metadata": {},
   "source": [
    "Bài 2\n"
   ]
  },
  {
   "cell_type": "code",
   "execution_count": null,
   "id": "1d92cf57",
   "metadata": {},
   "outputs": [],
   "source": [
    "user = input(\"Mời nhập chuỗi: \")\n",
    "print(f\"Xin chào người dùng, bạn đã nhập chuỗi {user}\")"
   ]
  },
  {
   "cell_type": "markdown",
   "id": "c797997b",
   "metadata": {},
   "source": [
    "Bài 3"
   ]
  },
  {
   "cell_type": "code",
   "execution_count": null,
   "id": "4c22aa58",
   "metadata": {},
   "outputs": [],
   "source": [
    "a = int(input(\"Nhập số a: \"))\n",
    "b = int(input(\"Nhập số b: \"))\n",
    "print(f'Tổng của {a} và {b} là: {a + b}')\n",
    "print(f'Hiệu của {a} và {b} là: {a - b}')\n",
    "print(f'Tích của {a} và {b} là: {a * b}')\n",
    "print(f'Phần nguyên của {a} chia {b} là: {a // b}')\n",
    "print(f'Phần dư của {a} chia {b} là: {a % b}')\n",
    "print(f'Thương của {a} chia {b} là: {a / b :.2f}')"
   ]
  },
  {
   "cell_type": "markdown",
   "id": "4c26581f",
   "metadata": {},
   "source": [
    "Bài 4"
   ]
  },
  {
   "cell_type": "code",
   "execution_count": null,
   "id": "0fcdc0b8",
   "metadata": {},
   "outputs": [],
   "source": [
    "a1, b1, c1, a2, b2, a3 = map(int, input().split())\n",
    "dtb =  ((a1 + b1 + c1)+( a2 + b2) * 2 + a3 *3)/10\n",
    "print(f'Điểm trung bình là: {dtb:.1f}')\n"
   ]
  },
  {
   "cell_type": "markdown",
   "id": "0a2d791b",
   "metadata": {},
   "source": [
    "\n",
    "Bài 5"
   ]
  },
  {
   "cell_type": "code",
   "execution_count": null,
   "id": "f5e80dcc",
   "metadata": {},
   "outputs": [],
   "source": [
    "a = int(input(\"Nhập số a: \"))\n",
    "b = int(input(\"Nhập số b: \"))\n",
    "print(f'Luỹ thừa của {a} mũ {b} là: {a ** b}')"
   ]
  },
  {
   "cell_type": "markdown",
   "id": "8d8fe03e",
   "metadata": {},
   "source": [
    "Bài 6"
   ]
  },
  {
   "cell_type": "code",
   "execution_count": null,
   "id": "ae251501",
   "metadata": {},
   "outputs": [],
   "source": [
    "s = input(\"Nhập chuỗi kí tự thường: \")\n",
    "print(\"Mã unicode của chuỗi là: \")\n",
    "for i in s:\n",
    "    print(f\"{i}: {ord(i)}\")\n",
    "s = s.upper()\n",
    "print(\"Chuỗi sau khi in hoa là: \", s)\n"
   ]
  },
  {
   "cell_type": "markdown",
   "id": "f853a91d",
   "metadata": {},
   "source": [
    "Bài 7"
   ]
  },
  {
   "cell_type": "code",
   "execution_count": null,
   "id": "d05d80de",
   "metadata": {},
   "outputs": [],
   "source": [
    "A = (13 ** 2) * 3 + 5\n",
    "B = 13 ** 2 * 3 + 5\n",
    "print(f'Kết quả của phép toán A khi có dấu ngoặc là {A}')\n",
    "print(f'Kết quả của phép toán B khi không có dấu ngoặc là {B}')"
   ]
  },
  {
   "cell_type": "markdown",
   "id": "1d1effca",
   "metadata": {},
   "source": [
    "Bài 8"
   ]
  },
  {
   "cell_type": "code",
   "execution_count": null,
   "id": "a9a2398f",
   "metadata": {},
   "outputs": [],
   "source": [
    "C = float(input())\n",
    "F = (C * 9/5) + 32\n",
    "print(f'{C} độ C tương đương với {F:.2f} độ F')"
   ]
  },
  {
   "cell_type": "markdown",
   "id": "84c0fe87",
   "metadata": {},
   "source": [
    "Bài 9"
   ]
  },
  {
   "cell_type": "code",
   "execution_count": null,
   "id": "3b0b3d69",
   "metadata": {},
   "outputs": [],
   "source": [
    "x = float(input(\"Nhập số tiền đồng hồ: \"))\n",
    "res = (x + 10) * 1.4\n",
    "print(f\"Tiền phải trả để mua đồng hồ là: {res:.2f} USD\")"
   ]
  },
  {
   "cell_type": "markdown",
   "id": "239cbc8c",
   "metadata": {},
   "source": [
    "Bài 10"
   ]
  },
  {
   "cell_type": "code",
   "execution_count": null,
   "id": "2f71bfe9",
   "metadata": {},
   "outputs": [],
   "source": [
    "s = input(\"Nhập tên 3 người: \").split()\n",
    "s = s[::-1]\n",
    "print(f'Hi {s[0]}, {s[1]} and {s[2]}')"
   ]
  },
  {
   "cell_type": "markdown",
   "id": "1a223e9f",
   "metadata": {},
   "source": [
    "Bài 11"
   ]
  },
  {
   "cell_type": "code",
   "execution_count": null,
   "id": "0a4e8cee",
   "metadata": {},
   "outputs": [],
   "source": [
    "h, m = map(int, input(\"Nhập giờ và phút: \").split())\n",
    "s = h * 3600 + m * 60\n",
    "print(f'{h} giờ {m} phút tương ứng với {s} giây')"
   ]
  },
  {
   "cell_type": "markdown",
   "id": "bdc4f5d6",
   "metadata": {},
   "source": [
    "Bài 12"
   ]
  },
  {
   "cell_type": "code",
   "execution_count": null,
   "id": "50b942ca",
   "metadata": {},
   "outputs": [],
   "source": [
    "a = int(input(\"Nhập độ dài khối lập phương:  \"))\n",
    "res = a * a * 6\n",
    "print(f'Cần số miếng dán là : {res}')\n"
   ]
  },
  {
   "cell_type": "markdown",
   "id": "072b1d65",
   "metadata": {},
   "source": [
    "Bài 13"
   ]
  },
  {
   "cell_type": "code",
   "execution_count": null,
   "id": "abb18230",
   "metadata": {},
   "outputs": [],
   "source": [
    "a, b = map(int, input(\"Nhập 2 số nguyên a và b: \").split())\n",
    "print(f'Phần đơn vị của tích {a} * {b} là: {a * b % 10}')"
   ]
  },
  {
   "cell_type": "markdown",
   "id": "7f82ce88",
   "metadata": {},
   "source": [
    "Bài 14"
   ]
  },
  {
   "cell_type": "code",
   "execution_count": null,
   "id": "33f29213",
   "metadata": {},
   "outputs": [],
   "source": [
    "a, b = map(int, input(\"Nhập 2 số nguyên a và b: \").split())\n",
    "a, b = b, a\n",
    "print(f\"Giá trị của a là: {a}\")\n",
    "print(f\"Giá trị của b là: {b}\")"
   ]
  },
  {
   "cell_type": "markdown",
   "id": "2781931f",
   "metadata": {},
   "source": [
    "Bài 15"
   ]
  },
  {
   "cell_type": "code",
   "execution_count": null,
   "id": "45d322ca",
   "metadata": {},
   "outputs": [],
   "source": [
    "n = int(input('Nhập n = '))\n",
    "print(f\"Số sao của hình là: {6 * n *(n - 1) + 1}\")"
   ]
  },
  {
   "cell_type": "markdown",
   "id": "817e1f8e",
   "metadata": {},
   "source": [
    "Bài 16"
   ]
  },
  {
   "cell_type": "code",
   "execution_count": null,
   "id": "3cd1bf40",
   "metadata": {},
   "outputs": [],
   "source": [
    "print(\"Spring\")\n",
    "print(\"Summer\")\n",
    "print(\"Autumn\")\n",
    "print(\"Winter\")\n"
   ]
  },
  {
   "cell_type": "markdown",
   "id": "eb429c29",
   "metadata": {},
   "source": [
    "Bài 17"
   ]
  },
  {
   "cell_type": "code",
   "execution_count": null,
   "id": "c2083dd1",
   "metadata": {},
   "outputs": [],
   "source": [
    "print(\"*\\n***\\n*****\")"
   ]
  },
  {
   "cell_type": "markdown",
   "id": "2575a730",
   "metadata": {},
   "source": [
    "Bài 18\n"
   ]
  },
  {
   "cell_type": "code",
   "execution_count": null,
   "id": "0b6f4b3e",
   "metadata": {},
   "outputs": [],
   "source": [
    "s = \"\"\"\"\n",
    "### ##   ### ###\n",
    " #  # #   #   #\n",
    " #  #  #  #   #\n",
    " #  # #   #   #\n",
    " #  ##    #   # \"\"\"\n",
    "print(s)"
   ]
  },
  {
   "cell_type": "markdown",
   "id": "112bf66c",
   "metadata": {},
   "source": [
    "Bài 19"
   ]
  },
  {
   "cell_type": "code",
   "execution_count": null,
   "id": "76b008d6",
   "metadata": {},
   "outputs": [],
   "source": [
    "print(\"Monday\")\n",
    "print(\"Tuesday\")\n",
    "print(\"Wednesday\")\n",
    "print(\"Thursday\")\n",
    "print(\"Friday\")\n",
    "print(\"Saturday\")\n",
    "print(\"Sunday\")\n"
   ]
  },
  {
   "cell_type": "markdown",
   "id": "3b6b8605",
   "metadata": {},
   "source": [
    "Bài 20"
   ]
  },
  {
   "cell_type": "code",
   "execution_count": null,
   "id": "843524a1",
   "metadata": {},
   "outputs": [],
   "source": [
    "print(\"January\")\n",
    "print(\"February\")\n",
    "print(\"March\")\n",
    "print(\"April\")\n",
    "print(\"May\")\n",
    "print(\"June\")\n",
    "print(\"July\")\n",
    "print(\"August\")\n",
    "print(\"September\")\n",
    "print(\"October\")\n",
    "print(\"November\")\n",
    "print(\"December\")"
   ]
  },
  {
   "cell_type": "markdown",
   "id": "dfdf2fc7",
   "metadata": {},
   "source": [
    "Bài 21"
   ]
  },
  {
   "cell_type": "markdown",
   "id": "1db5e90b",
   "metadata": {},
   "source": []
  },
  {
   "cell_type": "code",
   "execution_count": null,
   "id": "ec422f6c",
   "metadata": {},
   "outputs": [],
   "source": [
    "for _ in range(10):\n",
    "    print(\"Hello, world\")"
   ]
  }
 ],
 "metadata": {
  "kernelspec": {
   "display_name": "Python 3",
   "language": "python",
   "name": "python3"
  },
  "language_info": {
   "codemirror_mode": {
    "name": "ipython",
    "version": 3
   },
   "file_extension": ".py",
   "mimetype": "text/x-python",
   "name": "python",
   "nbconvert_exporter": "python",
   "pygments_lexer": "ipython3",
   "version": "3.13.7"
  }
 },
 "nbformat": 4,
 "nbformat_minor": 5
}
